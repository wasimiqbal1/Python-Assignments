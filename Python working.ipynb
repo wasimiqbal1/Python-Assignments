{
 "cells": [
  {
   "cell_type": "markdown",
   "metadata": {},
   "source": [
    "# Python Programming Language\n",
    "Assignmnet # 3"
   ]
  },
  {
   "cell_type": "markdown",
   "metadata": {},
   "source": [
    "# 1. Write a Python program to print the following string in a specific format (see the output).\n"
   ]
  },
  {
   "cell_type": "code",
   "execution_count": 1,
   "metadata": {},
   "outputs": [
    {
     "name": "stdout",
     "output_type": "stream",
     "text": [
      "Twinkle, twinkle, little star, \n",
      "\tHow I wonder what you are! \n",
      "\t\tUp above the world so high, \n",
      "\t\tLike a diamond in the sky. \n",
      "Twinkle, twinkle, little star, \n",
      "\tHow I wonder what you are!\n"
     ]
    }
   ],
   "source": [
    "print(\"Twinkle, twinkle, little star, \\n\\tHow I wonder what you are! \\n\\t\\tUp above the world so high, \\n\\t\\tLike a diamond in the sky. \\nTwinkle, twinkle, little star, \\n\\tHow I wonder what you are!\") \n"
   ]
  },
  {
   "cell_type": "markdown",
   "metadata": {},
   "source": [
    "# 2. Write a Python program to get the Python version you are using"
   ]
  },
  {
   "cell_type": "code",
   "execution_count": 13,
   "metadata": {},
   "outputs": [
    {
     "name": "stdout",
     "output_type": "stream",
     "text": [
      "3.8.3\n"
     ]
    }
   ],
   "source": [
    "import platform\n",
    "print(platform.python_version())\n"
   ]
  },
  {
   "cell_type": "markdown",
   "metadata": {},
   "source": [
    "# 3. Write a Python program to display the current date and time."
   ]
  },
  {
   "cell_type": "code",
   "execution_count": 21,
   "metadata": {},
   "outputs": [
    {
     "name": "stdout",
     "output_type": "stream",
     "text": [
      "2021-10-24 14:39:25\n"
     ]
    }
   ],
   "source": [
    "from datetime import datetime\n",
    "now = datetime.now()\n",
    "print (now.strftime(\"%Y-%m-%d %H:%M:%S\"))\n"
   ]
  },
  {
   "cell_type": "markdown",
   "metadata": {},
   "source": [
    "# 4. Write a Python program which accepts the radius of a circle from the user and compute the area."
   ]
  },
  {
   "cell_type": "code",
   "execution_count": 22,
   "metadata": {},
   "outputs": [
    {
     "name": "stdout",
     "output_type": "stream",
     "text": [
      "Enter the radius of a circle:1\n",
      "Area of a circle = 3.14\n"
     ]
    }
   ],
   "source": [
    "PI = 3.14\n",
    "r = float(input(\"Enter the radius of a circle:\"))\n",
    "area = PI * r * r\n",
    "print(\"Area of a circle = %.2f\" %area)\n"
   ]
  },
  {
   "cell_type": "markdown",
   "metadata": {},
   "source": [
    "# 5. Write a Python program which accepts the user's first and last name and print them in reverse order with a space between them."
   ]
  },
  {
   "cell_type": "code",
   "execution_count": 25,
   "metadata": {},
   "outputs": [
    {
     "name": "stdout",
     "output_type": "stream",
     "text": [
      "What is your last name?:Wasim \n",
      "What is your last?Iqbal\n",
      " misaW labqI\n"
     ]
    }
   ],
   "source": [
    "firstname = input(\"What is your last name?:\")\n",
    "lastname = input(\"What is your last?\")\n",
    "print(firstname[::-1] + \" \" + lastname[::-1])"
   ]
  },
  {
   "cell_type": "markdown",
   "metadata": {},
   "source": [
    "# 6. Write a python program which takes two inputs from user and print them addition"
   ]
  },
  {
   "cell_type": "code",
   "execution_count": 44,
   "metadata": {},
   "outputs": [
    {
     "name": "stdout",
     "output_type": "stream",
     "text": [
      "What is your last name?:Wasim\n",
      "What is your last?Iqbal\n",
      "My name is WasimIqbal\n"
     ]
    }
   ],
   "source": [
    "firstname = input(\"What is your last name?:\")\n",
    "lastname = input(\"What is your last?\")\n",
    "name = firstname + lastname\n",
    "print(\"My name is \" + name)"
   ]
  },
  {
   "cell_type": "markdown",
   "metadata": {},
   "source": [
    "# 7. Write a program which takes 5 inputs from user for different subject’s marks, total it and generate mark sheet using grades ?"
   ]
  },
  {
   "cell_type": "code",
   "execution_count": 21,
   "metadata": {},
   "outputs": [
    {
     "name": "stdout",
     "output_type": "stream",
     "text": [
      "Enter Maths Marks :89\n",
      "Enter English Marks :68\n",
      "Enter Urdu Marks :71\n",
      "Enter Physics Marks :85\n",
      "Enter Chmistry Marks :82\n",
      "\n",
      "Total marks is:   \t 395 / 500\n",
      "\n",
      "Percentage is:    \t 79.0 %\n",
      "\n",
      "Grade is:         \t B\n"
     ]
    }
   ],
   "source": [
    "maths = int(input(\"Enter Maths Marks :\"));\n",
    "english = int(input(\"Enter English Marks :\"));\n",
    "urdu = int(input(\"Enter Urdu Marks :\"));\n",
    "physics = int(input(\"Enter Physics Marks :\"));\n",
    "chemistry = int(input(\"Enter Chmistry Marks :\"));\n",
    "total_marks = 500\n",
    "\n",
    "obtained_marks = maths+english+urdu+physics+chemistry\n",
    "\n",
    "percentage = (obtained_marks / 500) * 100\n",
    "\n",
    "if percentage > 90 and percentage < 100:\n",
    "    grade = \"A+\"\n",
    "elif percentage > 80 and percentage < 90:\n",
    "    grade = \"A\"\n",
    "elif percentage > 70 and percentage < 80:\n",
    "    grade = \"B\"\n",
    "elif percentage > 60 and percentage < 70:\n",
    "    grade = \"C\"\n",
    "elif percentage < 60:\n",
    "    grade = \"Fail\" \n",
    "\n",
    "print (\"\\nTotal marks is:   \\t\", obtained_marks, \"/ 500\")\n",
    "print (\"\\nPercentage is:    \\t\", percentage, \"%\")\n",
    "print (\"\\nGrade is:         \\t\", grade)    \n",
    "    \n"
   ]
  },
  {
   "cell_type": "markdown",
   "metadata": {},
   "source": [
    "# 8. Write a program which take input from user and identify that the given number is even or odd?"
   ]
  },
  {
   "cell_type": "code",
   "execution_count": 2,
   "metadata": {},
   "outputs": [
    {
     "name": "stdout",
     "output_type": "stream",
     "text": [
      "Enter a number for check odd or even: 10\n",
      "10 is a even number\n"
     ]
    }
   ],
   "source": [
    "num=int(input(\"Enter a number for check odd or even: \"))\n",
    "def find_Evenodd(num):\n",
    "    number=(num/2)*2\n",
    "    if(number==num):\n",
    "        print(num, \"is a even number\");\n",
    "    else:\n",
    "        print(num, \"is a odd number\");\n",
    "\n",
    "find_Evenodd(num);"
   ]
  },
  {
   "cell_type": "markdown",
   "metadata": {},
   "source": [
    "# 9. Write a program which print the length of the list?"
   ]
  },
  {
   "cell_type": "code",
   "execution_count": 3,
   "metadata": {},
   "outputs": [
    {
     "name": "stdout",
     "output_type": "stream",
     "text": [
      "5\n"
     ]
    }
   ],
   "source": [
    "inp_lst = ['Python','Java','Kotlin','C++','JavaScript']\n",
    "size = len(inp_lst)\n",
    "print(size)\n"
   ]
  },
  {
   "cell_type": "markdown",
   "metadata": {},
   "source": [
    "# 10. Write a Python program to sum all the numeric items in a list?"
   ]
  },
  {
   "cell_type": "code",
   "execution_count": 5,
   "metadata": {},
   "outputs": [
    {
     "name": "stdout",
     "output_type": "stream",
     "text": [
      "Sum of all elements in given list:  103\n"
     ]
    }
   ],
   "source": [
    "total = 0\n",
    "ele = 0\n",
    "\n",
    "list1 = [10, 15, 18, 25, 35]\n",
    "\n",
    "while(ele < len(list1)):\n",
    "    total = total + list1[ele]\n",
    "    ele += 1\n",
    "print(\"Sum of all elements in given list: \", total)\n"
   ]
  },
  {
   "cell_type": "markdown",
   "metadata": {},
   "source": [
    "# 11. Write a Python program to get the largest number from a numeric list."
   ]
  },
  {
   "cell_type": "code",
   "execution_count": 7,
   "metadata": {},
   "outputs": [
    {
     "name": "stdout",
     "output_type": "stream",
     "text": [
      "Largest Number is: 200\n"
     ]
    }
   ],
   "source": [
    "list2 = [10, 99, 4, 45, 200]\n",
    "\n",
    "print(\"Largest Number is:\", max(list2))\n"
   ]
  },
  {
   "cell_type": "markdown",
   "metadata": {},
   "source": [
    "# 12. Take a list and Write a program that prints out all the elements of the list that are less than 5."
   ]
  },
  {
   "cell_type": "code",
   "execution_count": 8,
   "metadata": {},
   "outputs": [
    {
     "name": "stdout",
     "output_type": "stream",
     "text": [
      "1\n",
      "1\n",
      "2\n",
      "3\n"
     ]
    }
   ],
   "source": [
    "a = [1, 1, 2, 3, 5, 8, 13, 21, 34, 55, 89]\n",
    "for i in a:\n",
    "    if i < 5:\n",
    "        print(i)\n"
   ]
  }
 ],
 "metadata": {
  "kernelspec": {
   "display_name": "Python 3",
   "language": "python",
   "name": "python3"
  },
  "language_info": {
   "codemirror_mode": {
    "name": "ipython",
    "version": 3
   },
   "file_extension": ".py",
   "mimetype": "text/x-python",
   "name": "python",
   "nbconvert_exporter": "python",
   "pygments_lexer": "ipython3",
   "version": "3.8.3"
  }
 },
 "nbformat": 4,
 "nbformat_minor": 2
}
